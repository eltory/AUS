{
 "cells": [
  {
   "cell_type": "code",
   "execution_count": null,
   "metadata": {
    "collapsed": true
   },
   "outputs": [],
   "source": [
    "from kafka import KafkaConsumer\n",
    "from json import loads\n",
    "import matplotlib.pyplot as plt\n",
    "\n",
    "# kafka consumer connect\n",
    "consumer = KafkaConsumer(\n",
    "    'numtest',\n",
    "    bootstrap_servers=['localhost:9092'],\n",
    "    auto_offset_reset='earliest',\n",
    "    enable_auto_commit=True,\n",
    "    group_id='my_group',\n",
    "    value_deserializer=lambda x: loads(x.decode('utf-8')))\n",
    "\n",
    "\n",
    "plt.rcParams['animation.html'] = 'jshtml'\n",
    "fig = plt.figure()\n",
    "ax = fig.add_subplot(111)\n",
    "fig.show()\n",
    "i = 0\n",
    "\n",
    "x, y = [], []\n",
    "# receive data from kafka producer and draw real time graph\n",
    "for message in consumer:\n",
    "    message = message.value\n",
    "    x.append(i)\n",
    "    y.append(message['number'])\n",
    "    ax.clear()\n",
    "    ax.plot(x, y, color='g')\n",
    "    ax.set_xlim(left=max(0, i - 10), right=i + 1)\n",
    "    fig.canvas.draw()\n",
    "    i += 1"
   ]
  }
 ],
 "metadata": {
  "kernelspec": {
   "display_name": "Python 2",
   "language": "python",
   "name": "python2"
  },
  "language_info": {
   "codemirror_mode": {
    "name": "ipython",
    "version": 2
   },
   "file_extension": ".py",
   "mimetype": "text/x-python",
   "name": "python",
   "nbconvert_exporter": "python",
   "pygments_lexer": "ipython2",
   "version": "2.7.6"
  }
 },
 "nbformat": 4,
 "nbformat_minor": 0
}
