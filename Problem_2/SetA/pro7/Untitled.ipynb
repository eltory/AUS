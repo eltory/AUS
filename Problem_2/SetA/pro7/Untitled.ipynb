{
 "cells": [
  {
   "cell_type": "code",
   "execution_count": null,
   "metadata": {},
   "outputs": [],
   "source": [
    "from kafka import KafkaConsumer\n",
    "from json import loads\n",
    "import statistics\n",
    "import matplotlib.pyplot as plt\n",
    "%matplotlib notebook\n",
    " \n",
    "# Make a Kafaka consumer\n",
    "consumer = KafkaConsumer(\n",
    "    'pro_1',\n",
    "     bootstrap_servers=['localhost:9092'],\n",
    "     auto_offset_reset='earliest',\n",
    "     enable_auto_commit=True,\n",
    "     group_id='m_g',\n",
    "     value_deserializer=lambda x: loads(x.decode('utf-8')))\n",
    " \n",
    "# Make a plot graph\n",
    "plt.rcParams['animation.html'] = 'jshtml'\n",
    "plt.rcParams['axes.grid'] = True\n",
    "fig = plt.figure()\n",
    "ax = fig.add_subplot(111)\n",
    "fig.show()\n",
    "i = 0\n",
    " \n",
    "# x is a second, y is a data from producer\n",
    "x, y = [], []\n",
    " \n",
    "# Get message from the producer via kafka\n",
    "for message in consumer:\n",
    "    message = message.value\n",
    "    if len(x) > 9:\n",
    "        del(x[0])\n",
    "        del(y[0])\n",
    "    # z is for min, max and current value in last ten second\n",
    "    z = []\n",
    "    x.append(i)\n",
    "    y.append(message['number'])\n",
    "    z.append(min(y))\n",
    "    z.append(max(y))\n",
    "    z.append(message['number'])\n",
    "    ax.clear()\n",
    "    ax.plot(x, y, color = 'r')\n",
    "    for n, txt in enumerate(z):\n",
    "        ax.annotate(txt, (i-9+y.index(z[n]), z[n]))\n",
    "    ax.set_xlim(left=max(0,i-10),right=i+1)\n",
    "    fig.canvas.draw()\n",
    "    i += 1"
   ]
  }
 ],
 "metadata": {
  "kernelspec": {
   "display_name": "Python 3",
   "language": "python",
   "name": "python3"
  },
  "language_info": {
   "codemirror_mode": {
    "name": "ipython",
    "version": 3
   },
   "file_extension": ".py",
   "mimetype": "text/x-python",
   "name": "python",
   "nbconvert_exporter": "python",
   "pygments_lexer": "ipython3",
   "version": "3.7.2"
  }
 },
 "nbformat": 4,
 "nbformat_minor": 2
}
